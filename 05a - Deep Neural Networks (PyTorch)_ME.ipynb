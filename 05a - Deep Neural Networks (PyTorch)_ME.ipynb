{
 "cells": [
  {
   "cell_type": "markdown",
   "metadata": {},
   "source": [
    "# Deep Learning with PyTorch"
   ]
  },
  {
   "cell_type": "markdown",
   "metadata": {},
   "source": [
    "There is an emergence of new machine learning techniques that mimic the way the brain processes information in a structure called an artificial neural network.\n",
    "PyTorch is a framework for creating machine learning models, including deep neural networks (DNNs)."
   ]
  },
  {
   "cell_type": "markdown",
   "metadata": {},
   "source": [
    "# Explore the Dataset"
   ]
  },
  {
   "cell_type": "code",
   "execution_count": 1,
   "metadata": {},
   "outputs": [
    {
     "data": {
      "text/html": [
       "<div>\n",
       "<style scoped>\n",
       "    .dataframe tbody tr th:only-of-type {\n",
       "        vertical-align: middle;\n",
       "    }\n",
       "\n",
       "    .dataframe tbody tr th {\n",
       "        vertical-align: top;\n",
       "    }\n",
       "\n",
       "    .dataframe thead th {\n",
       "        text-align: right;\n",
       "    }\n",
       "</style>\n",
       "<table border=\"1\" class=\"dataframe\">\n",
       "  <thead>\n",
       "    <tr style=\"text-align: right;\">\n",
       "      <th></th>\n",
       "      <th>CulmenLength</th>\n",
       "      <th>CulmenDepth</th>\n",
       "      <th>FlipperLength</th>\n",
       "      <th>BodyMass</th>\n",
       "      <th>Species</th>\n",
       "    </tr>\n",
       "  </thead>\n",
       "  <tbody>\n",
       "    <tr>\n",
       "      <th>33</th>\n",
       "      <td>40.9</td>\n",
       "      <td>18.9</td>\n",
       "      <td>18.4</td>\n",
       "      <td>39.0</td>\n",
       "      <td>0</td>\n",
       "    </tr>\n",
       "    <tr>\n",
       "      <th>243</th>\n",
       "      <td>52.2</td>\n",
       "      <td>17.1</td>\n",
       "      <td>22.8</td>\n",
       "      <td>54.0</td>\n",
       "      <td>1</td>\n",
       "    </tr>\n",
       "    <tr>\n",
       "      <th>331</th>\n",
       "      <td>52.2</td>\n",
       "      <td>18.8</td>\n",
       "      <td>19.7</td>\n",
       "      <td>34.5</td>\n",
       "      <td>2</td>\n",
       "    </tr>\n",
       "    <tr>\n",
       "      <th>149</th>\n",
       "      <td>37.8</td>\n",
       "      <td>18.1</td>\n",
       "      <td>19.3</td>\n",
       "      <td>37.5</td>\n",
       "      <td>0</td>\n",
       "    </tr>\n",
       "    <tr>\n",
       "      <th>292</th>\n",
       "      <td>50.3</td>\n",
       "      <td>20.0</td>\n",
       "      <td>19.7</td>\n",
       "      <td>33.0</td>\n",
       "      <td>2</td>\n",
       "    </tr>\n",
       "    <tr>\n",
       "      <th>307</th>\n",
       "      <td>54.2</td>\n",
       "      <td>20.8</td>\n",
       "      <td>20.1</td>\n",
       "      <td>43.0</td>\n",
       "      <td>2</td>\n",
       "    </tr>\n",
       "    <tr>\n",
       "      <th>206</th>\n",
       "      <td>46.5</td>\n",
       "      <td>14.4</td>\n",
       "      <td>21.7</td>\n",
       "      <td>49.0</td>\n",
       "      <td>1</td>\n",
       "    </tr>\n",
       "    <tr>\n",
       "      <th>86</th>\n",
       "      <td>36.3</td>\n",
       "      <td>19.5</td>\n",
       "      <td>19.0</td>\n",
       "      <td>38.0</td>\n",
       "      <td>0</td>\n",
       "    </tr>\n",
       "    <tr>\n",
       "      <th>291</th>\n",
       "      <td>50.5</td>\n",
       "      <td>19.6</td>\n",
       "      <td>20.1</td>\n",
       "      <td>40.5</td>\n",
       "      <td>2</td>\n",
       "    </tr>\n",
       "    <tr>\n",
       "      <th>105</th>\n",
       "      <td>39.7</td>\n",
       "      <td>18.9</td>\n",
       "      <td>18.4</td>\n",
       "      <td>35.5</td>\n",
       "      <td>0</td>\n",
       "    </tr>\n",
       "  </tbody>\n",
       "</table>\n",
       "</div>"
      ],
      "text/plain": [
       "     CulmenLength  CulmenDepth  FlipperLength  BodyMass  Species\n",
       "33           40.9         18.9           18.4      39.0        0\n",
       "243          52.2         17.1           22.8      54.0        1\n",
       "331          52.2         18.8           19.7      34.5        2\n",
       "149          37.8         18.1           19.3      37.5        0\n",
       "292          50.3         20.0           19.7      33.0        2\n",
       "307          54.2         20.8           20.1      43.0        2\n",
       "206          46.5         14.4           21.7      49.0        1\n",
       "86           36.3         19.5           19.0      38.0        0\n",
       "291          50.5         19.6           20.1      40.5        2\n",
       "105          39.7         18.9           18.4      35.5        0"
      ]
     },
     "execution_count": 1,
     "metadata": {},
     "output_type": "execute_result"
    }
   ],
   "source": [
    "import pandas as pd\n",
    "\n",
    "penguins = pd.read_csv('data/penguins.csv').dropna()\n",
    "\n",
    "# Deep Learning models work best when features are on similar scales\n",
    "# In a real solution, we'd implement some custom normalization for each\n",
    "# feature, but to keep things simple\n",
    "penguins['FlipperLength'] = penguins['FlipperLength']/10\n",
    "penguins['BodyMass'] = penguins['BodyMass']/100\n",
    "\n",
    "# The dataset is too small to be useful for deep learning\n",
    "# so we'll oversample it to triple its size\n",
    "for i in range(1,3):\n",
    "    penguins = penguins.append(penguins)\n",
    "\n",
    "# Display a random sample of 10 observations\n",
    "sample = penguins.sample(10)\n",
    "sample"
   ]
  },
  {
   "cell_type": "code",
   "execution_count": 2,
   "metadata": {},
   "outputs": [
    {
     "name": "stdout",
     "output_type": "stream",
     "text": [
      "['CulmenLength' 'CulmenDepth' 'FlipperLength' 'BodyMass' 'Species'] SpeciesName\n",
      "[ 43.3 13.4 20.9 44.0 1.0 ] Gentoo\n",
      "[ 36.2 16.1 18.7 35.5 0.0 ] Amelie\n",
      "[ 41.1 17.6 18.2 32.0 0.0 ] Amelie\n",
      "[ 35.6 17.5 19.1 31.75 0.0 ] Amelie\n",
      "[ 52.7 19.8 19.7 37.25 2.0 ] Chinstrap\n",
      "[ 49.8 17.3 19.8 36.75 2.0 ] Chinstrap\n",
      "[ 36.3 19.5 19.0 38.0 0.0 ] Amelie\n",
      "[ 34.1 18.1 19.3 34.75 0.0 ] Amelie\n",
      "[ 37.2 18.1 17.8 39.0 0.0 ] Amelie\n",
      "[ 45.8 14.6 21.0 42.0 1.0 ] Gentoo\n"
     ]
    }
   ],
   "source": [
    "# to show the actual species to which these class labels correspond\n",
    "classes = ['Amelie', 'Gentoo', 'Chinstrap']\n",
    "print(penguins.columns[0:5].values, 'SpeciesName')\n",
    "for ind, row in penguins.sample(10).iterrows():\n",
    "    print('[',row[0],row[1],row[2],row[3],row[4],']', classes[int(row[-1])])"
   ]
  },
  {
   "cell_type": "code",
   "execution_count": 3,
   "metadata": {},
   "outputs": [
    {
     "name": "stdout",
     "output_type": "stream",
     "text": [
      "Training Set: 957, Test Set: 411 \n",
      "\n",
      "Sample of features and labels:\n",
      "[51.1 16.5 22.5 52.5] 1 (Gentoo)\n",
      "[50.7 19.7 20.3 40.5] 2 (Chinstrap)\n",
      "[49.5 16.2 22.9 58. ] 1 (Gentoo)\n",
      "[39.3 20.6 19.  36.5] 0 (Amelie)\n",
      "[42.5 20.7 19.7 45. ] 0 (Amelie)\n"
     ]
    }
   ],
   "source": [
    "from sklearn.model_selection import train_test_split\n",
    "feats = ['CulmenLength','CulmenDepth','FlipperLength','BodyMass']\n",
    "label = 'Species'\n",
    "\n",
    "# Split data 7-3 into training set and test set\n",
    "x_train, x_test, y_train, y_test = train_test_split(penguins[feats].values, \n",
    "                                                    penguins[label].values,\n",
    "                                                    test_size = 0.3,\n",
    "                                                    random_state = 0)\n",
    "print('Training Set: %d, Test Set: %d \\n'%(len(x_train), len(x_test)))\n",
    "print('Sample of features and labels:')\n",
    "\n",
    "for n in range(0,5):\n",
    "    print(x_train[n], y_train[n],'(' + classes[y_train[n]] + ')')"
   ]
  },
  {
   "cell_type": "markdown",
   "metadata": {},
   "source": [
    "# Install and import the PyTorch Libraries"
   ]
  },
  {
   "cell_type": "code",
   "execution_count": 4,
   "metadata": {},
   "outputs": [
    {
     "name": "stdout",
     "output_type": "stream",
     "text": [
      "tensor([[0.8288, 0.4727, 0.2535],\n",
      "        [0.9261, 0.9168, 0.9693],\n",
      "        [0.3117, 0.2218, 0.4828],\n",
      "        [0.5452, 0.9195, 0.3218],\n",
      "        [0.5057, 0.8437, 0.4553]])\n"
     ]
    }
   ],
   "source": [
    "# to ensure that PyTorch was installed correctly\n",
    "import torch\n",
    "x = torch.rand(5, 3)\n",
    "print(x)"
   ]
  },
  {
   "cell_type": "code",
   "execution_count": 5,
   "metadata": {},
   "outputs": [
    {
     "data": {
      "text/plain": [
       "False"
      ]
     },
     "execution_count": 5,
     "metadata": {},
     "output_type": "execute_result"
    }
   ],
   "source": [
    "# to check if my GPU driver and CUDA is enabled and accessible by PyTorch\n",
    "torch.cuda.is_available()"
   ]
  },
  {
   "cell_type": "code",
   "execution_count": 6,
   "metadata": {},
   "outputs": [
    {
     "name": "stdout",
     "output_type": "stream",
     "text": [
      "Libraries imported - ready to use PyTorch 1.8.0\n"
     ]
    }
   ],
   "source": [
    "import torch\n",
    "import torch.nn as nn\n",
    "import torch.utils.data as td\n",
    "\n",
    "# Set random seed for reproducability\n",
    "torch.manual_seed(0)\n",
    "\n",
    "print('Libraries imported - ready to use PyTorch', torch.__version__)"
   ]
  },
  {
   "cell_type": "markdown",
   "metadata": {},
   "source": [
    "# Prepare the data for PyTorch"
   ]
  },
  {
   "cell_type": "markdown",
   "metadata": {},
   "source": [
    "PyTorch makes use of *data loader* to load training and validation data in batches. We've already loaded the data into numpy arrays, but we need to wrap those in PyTorch datasets (where the data is converted to PyTorch *tensor* objects) and create loaders to read batches from those datasets."
   ]
  },
  {
   "cell_type": "code",
   "execution_count": 7,
   "metadata": {},
   "outputs": [
    {
     "name": "stdout",
     "output_type": "stream",
     "text": [
      "Ready to load data\n"
     ]
    }
   ],
   "source": [
    "# Create a dataset and loader for the training data and labels\n",
    "# .float(): 32-bit floating point\n",
    "# .long(): 64-bit integer (signed)\n",
    "train_x = torch.Tensor(x_train).float()\n",
    "train_y = torch.Tensor(y_train).long()\n",
    "train_ds = td.TensorDataset(train_x, train_y)\n",
    "train_loader = td.DataLoader(train_ds, batch_size=20,\n",
    "                             shuffle=False, num_workers=1)\n",
    "\n",
    "test_x = torch.Tensor(x_test).float()\n",
    "test_y = torch.Tensor(y_test).long()\n",
    "test_ds = td.TensorDataset(test_x, test_y)\n",
    "test_loader = td.DataLoader(test_ds, batch_size=20,\n",
    "                            shuffle=False, num_workers=1)\n",
    "print('Ready to load data')"
   ]
  },
  {
   "cell_type": "markdown",
   "metadata": {},
   "source": [
    "# Define a neural network"
   ]
  },
  {
   "cell_type": "markdown",
   "metadata": {},
   "source": [
    "In this case, we will create a network that consists of 3 fully-connected layers:\n",
    "* An input layer that receives an input value for each feature and applies a *ReLU* activation function.\n",
    "* A hidden layer that receives ten inputs ten and applies a *ReLU* activation function.\n",
    "* An output layer that uses a *Softmax* activation function to generate an output for each classification. Softmax functions produce a vector with probability values that sum to 1. "
   ]
  },
  {
   "cell_type": "code",
   "execution_count": 8,
   "metadata": {},
   "outputs": [
    {
     "name": "stdout",
     "output_type": "stream",
     "text": [
      "PenguinNet(\n",
      "  (fc1): Linear(in_features=4, out_features=10, bias=True)\n",
      "  (fc2): Linear(in_features=10, out_features=10, bias=True)\n",
      "  (fc3): Linear(in_features=10, out_features=3, bias=True)\n",
      ")\n"
     ]
    }
   ],
   "source": [
    "# Number of hidden layer nodes\n",
    "hl = 10\n",
    "\n",
    "# Define the neural network\n",
    "class PenguinNet(nn.Module):\n",
    "    def __init__(self):\n",
    "        super(PenguinNet, self).__init__()\n",
    "        self.fc1 = nn.Linear(len(feats), hl)\n",
    "        self.fc2 = nn.Linear(hl, hl)\n",
    "        self.fc3 = nn.Linear(hl, len(classes))\n",
    "        \n",
    "    def forward(self, x):\n",
    "        x = torch.relu(self.fc1(x))\n",
    "        x = torch.relu(self.fc2(x))\n",
    "        x = torch.softmax(self.fc3(x), dim=1)\n",
    "        return x\n",
    "\n",
    "# Create a model instance from the network\n",
    "model = PenguinNet()\n",
    "print(model)"
   ]
  },
  {
   "cell_type": "markdown",
   "metadata": {},
   "source": [
    "# Train the model"
   ]
  },
  {
   "cell_type": "markdown",
   "metadata": {},
   "source": [
    "To train the model, we need to repeatedly feed the training values forward through the network, use a loss function to calculate the loss, use an optimizer to backpropagate the weight and bias value adjustments, and validate the model using the test data we withheld."
   ]
  },
  {
   "cell_type": "code",
   "execution_count": 11,
   "metadata": {},
   "outputs": [
    {
     "name": "stdout",
     "output_type": "stream",
     "text": [
      "Epoch: 1\n",
      "Training set: Average loss: 1.003117\n",
      "Validation set: Average loss: 0.988074, Accuracy: 293/411 (71%)\n",
      "\n",
      "Epoch: 2\n",
      "Training set: Average loss: 0.962624\n",
      "Validation set: Average loss: 0.948942, Accuracy: 316/411 (77%)\n",
      "\n",
      "Epoch: 3\n",
      "Training set: Average loss: 0.920042\n",
      "Validation set: Average loss: 0.905124, Accuracy: 321/411 (78%)\n",
      "\n",
      "Epoch: 4\n",
      "Training set: Average loss: 0.874844\n",
      "Validation set: Average loss: 0.862565, Accuracy: 328/411 (80%)\n",
      "\n",
      "Epoch: 5\n",
      "Training set: Average loss: 0.830764\n",
      "Validation set: Average loss: 0.823208, Accuracy: 339/411 (82%)\n",
      "\n",
      "Epoch: 6\n",
      "Training set: Average loss: 0.790008\n",
      "Validation set: Average loss: 0.784854, Accuracy: 353/411 (86%)\n",
      "\n",
      "Epoch: 7\n",
      "Training set: Average loss: 0.752937\n",
      "Validation set: Average loss: 0.748247, Accuracy: 369/411 (90%)\n",
      "\n",
      "Epoch: 8\n",
      "Training set: Average loss: 0.720251\n",
      "Validation set: Average loss: 0.717467, Accuracy: 389/411 (95%)\n",
      "\n",
      "Epoch: 9\n",
      "Training set: Average loss: 0.693244\n",
      "Validation set: Average loss: 0.692360, Accuracy: 393/411 (96%)\n",
      "\n",
      "Epoch: 10\n",
      "Training set: Average loss: 0.671780\n",
      "Validation set: Average loss: 0.672645, Accuracy: 393/411 (96%)\n",
      "\n",
      "Epoch: 11\n",
      "Training set: Average loss: 0.654999\n",
      "Validation set: Average loss: 0.657111, Accuracy: 395/411 (96%)\n",
      "\n",
      "Epoch: 12\n",
      "Training set: Average loss: 0.641889\n",
      "Validation set: Average loss: 0.644850, Accuracy: 397/411 (97%)\n",
      "\n",
      "Epoch: 13\n",
      "Training set: Average loss: 0.631488\n",
      "Validation set: Average loss: 0.635104, Accuracy: 397/411 (97%)\n",
      "\n",
      "Epoch: 14\n",
      "Training set: Average loss: 0.623168\n",
      "Validation set: Average loss: 0.627212, Accuracy: 397/411 (97%)\n",
      "\n",
      "Epoch: 15\n",
      "Training set: Average loss: 0.616406\n",
      "Validation set: Average loss: 0.620687, Accuracy: 397/411 (97%)\n",
      "\n",
      "Epoch: 16\n",
      "Training set: Average loss: 0.610824\n",
      "Validation set: Average loss: 0.615246, Accuracy: 397/411 (97%)\n",
      "\n",
      "Epoch: 17\n",
      "Training set: Average loss: 0.606128\n",
      "Validation set: Average loss: 0.610692, Accuracy: 397/411 (97%)\n",
      "\n",
      "Epoch: 18\n",
      "Training set: Average loss: 0.602174\n",
      "Validation set: Average loss: 0.606791, Accuracy: 400/411 (97%)\n",
      "\n",
      "Epoch: 19\n",
      "Training set: Average loss: 0.598774\n",
      "Validation set: Average loss: 0.603400, Accuracy: 400/411 (97%)\n",
      "\n",
      "Epoch: 20\n",
      "Training set: Average loss: 0.595863\n",
      "Validation set: Average loss: 0.600422, Accuracy: 402/411 (98%)\n",
      "\n",
      "Epoch: 21\n",
      "Training set: Average loss: 0.593295\n",
      "Validation set: Average loss: 0.597819, Accuracy: 402/411 (98%)\n",
      "\n",
      "Epoch: 22\n",
      "Training set: Average loss: 0.591047\n",
      "Validation set: Average loss: 0.595495, Accuracy: 402/411 (98%)\n",
      "\n",
      "Epoch: 23\n",
      "Training set: Average loss: 0.589060\n",
      "Validation set: Average loss: 0.593431, Accuracy: 402/411 (98%)\n",
      "\n",
      "Epoch: 24\n",
      "Training set: Average loss: 0.587271\n",
      "Validation set: Average loss: 0.591664, Accuracy: 402/411 (98%)\n",
      "\n",
      "Epoch: 25\n",
      "Training set: Average loss: 0.585684\n",
      "Validation set: Average loss: 0.590002, Accuracy: 402/411 (98%)\n",
      "\n",
      "Epoch: 26\n",
      "Training set: Average loss: 0.584252\n",
      "Validation set: Average loss: 0.588476, Accuracy: 402/411 (98%)\n",
      "\n",
      "Epoch: 27\n",
      "Training set: Average loss: 0.582928\n",
      "Validation set: Average loss: 0.587058, Accuracy: 402/411 (98%)\n",
      "\n",
      "Epoch: 28\n",
      "Training set: Average loss: 0.581742\n",
      "Validation set: Average loss: 0.585782, Accuracy: 402/411 (98%)\n",
      "\n",
      "Epoch: 29\n",
      "Training set: Average loss: 0.580653\n",
      "Validation set: Average loss: 0.584598, Accuracy: 402/411 (98%)\n",
      "\n",
      "Epoch: 30\n",
      "Training set: Average loss: 0.579653\n",
      "Validation set: Average loss: 0.583518, Accuracy: 402/411 (98%)\n",
      "\n",
      "Epoch: 31\n",
      "Training set: Average loss: 0.578733\n",
      "Validation set: Average loss: 0.582512, Accuracy: 402/411 (98%)\n",
      "\n",
      "Epoch: 32\n",
      "Training set: Average loss: 0.577881\n",
      "Validation set: Average loss: 0.581571, Accuracy: 402/411 (98%)\n",
      "\n",
      "Epoch: 33\n",
      "Training set: Average loss: 0.577091\n",
      "Validation set: Average loss: 0.580706, Accuracy: 404/411 (98%)\n",
      "\n",
      "Epoch: 34\n",
      "Training set: Average loss: 0.576358\n",
      "Validation set: Average loss: 0.579879, Accuracy: 404/411 (98%)\n",
      "\n",
      "Epoch: 35\n",
      "Training set: Average loss: 0.575669\n",
      "Validation set: Average loss: 0.579108, Accuracy: 404/411 (98%)\n",
      "\n",
      "Epoch: 36\n",
      "Training set: Average loss: 0.575022\n",
      "Validation set: Average loss: 0.578401, Accuracy: 404/411 (98%)\n",
      "\n",
      "Epoch: 37\n",
      "Training set: Average loss: 0.574423\n",
      "Validation set: Average loss: 0.577712, Accuracy: 404/411 (98%)\n",
      "\n",
      "Epoch: 38\n",
      "Training set: Average loss: 0.573851\n",
      "Validation set: Average loss: 0.577074, Accuracy: 405/411 (99%)\n",
      "\n",
      "Epoch: 39\n",
      "Training set: Average loss: 0.573318\n",
      "Validation set: Average loss: 0.576453, Accuracy: 407/411 (99%)\n",
      "\n",
      "Epoch: 40\n",
      "Training set: Average loss: 0.572815\n",
      "Validation set: Average loss: 0.575863, Accuracy: 407/411 (99%)\n",
      "\n",
      "Epoch: 41\n",
      "Training set: Average loss: 0.572339\n",
      "Validation set: Average loss: 0.575300, Accuracy: 407/411 (99%)\n",
      "\n",
      "Epoch: 42\n",
      "Training set: Average loss: 0.571888\n",
      "Validation set: Average loss: 0.574759, Accuracy: 407/411 (99%)\n",
      "\n",
      "Epoch: 43\n",
      "Training set: Average loss: 0.571460\n",
      "Validation set: Average loss: 0.574243, Accuracy: 408/411 (99%)\n",
      "\n",
      "Epoch: 44\n",
      "Training set: Average loss: 0.571054\n",
      "Validation set: Average loss: 0.573746, Accuracy: 408/411 (99%)\n",
      "\n",
      "Epoch: 45\n",
      "Training set: Average loss: 0.570668\n",
      "Validation set: Average loss: 0.573270, Accuracy: 408/411 (99%)\n",
      "\n",
      "Epoch: 46\n",
      "Training set: Average loss: 0.570300\n",
      "Validation set: Average loss: 0.572819, Accuracy: 408/411 (99%)\n",
      "\n",
      "Epoch: 47\n",
      "Training set: Average loss: 0.569952\n",
      "Validation set: Average loss: 0.572381, Accuracy: 408/411 (99%)\n",
      "\n",
      "Epoch: 48\n",
      "Training set: Average loss: 0.569618\n",
      "Validation set: Average loss: 0.571958, Accuracy: 408/411 (99%)\n",
      "\n",
      "Epoch: 49\n",
      "Training set: Average loss: 0.569300\n",
      "Validation set: Average loss: 0.571557, Accuracy: 408/411 (99%)\n",
      "\n",
      "Epoch: 50\n",
      "Training set: Average loss: 0.568995\n",
      "Validation set: Average loss: 0.571173, Accuracy: 408/411 (99%)\n",
      "\n"
     ]
    }
   ],
   "source": [
    "def train(model, data_loader, optimizer):\n",
    "    # Set the model to training mode\n",
    "    model.train()\n",
    "    train_loss = 0\n",
    "    \n",
    "    for batch, tensor in enumerate(data_loader):\n",
    "        data, target = tensor\n",
    "        #feedforward\n",
    "        optimizer.zero_grad()\n",
    "        out = model(data)\n",
    "        loss = loss_criteria(out, target)\n",
    "        train_loss += loss.item()\n",
    "        \n",
    "        # backpropagate\n",
    "        loss.backward()\n",
    "        optimizer.step()\n",
    "        \n",
    "    # Return average loss\n",
    "    avg_loss = train_loss / (batch+1)\n",
    "    print('Training set: Average loss: {:.6f}'.format(avg_loss))\n",
    "    return avg_loss\n",
    "\n",
    "def test(model, data_loader):\n",
    "    # Switch the model to evaluation mode (so we don't backpropagate)\n",
    "    model.eval()\n",
    "    test_loss = 0\n",
    "    correct = 0\n",
    "    \n",
    "    with torch.no_grad():\n",
    "        batch_count = 0\n",
    "        for batch, tensor in enumerate(data_loader):\n",
    "            batch_count += 1\n",
    "            data, target = tensor\n",
    "            # Get the predictions\n",
    "            out = model(data)\n",
    "            \n",
    "            # Calculate the loss\n",
    "            test_loss += loss_criteria(out, target).item()\n",
    "            \n",
    "            # Calculate the accuracy\n",
    "            _, predicted = torch.max(out.data, 1)\n",
    "            correct += torch.sum(target==predicted).item()\n",
    "        \n",
    "    # Calculate the average loss and total accuracy for this epoch\n",
    "    avg_loss = test_loss/batch_count\n",
    "    print('Validation set: Average loss: {:.6f}, Accuracy: {}/{} ({:.0f}%)\\n'.format(\n",
    "            avg_loss, correct, len(data_loader.dataset),\n",
    "            100. * correct / len(data_loader.dataset)))\n",
    "        \n",
    "    # Return average loss for the epoch\n",
    "    return avg_loss\n",
    "    \n",
    "# Specify the loss criteria (CrossEntropyLoss for multi-class classification)\n",
    "loss_criteria = nn.CrossEntropyLoss()\n",
    "\n",
    "# Use an \"Adam\" optimizer to adjust weights\n",
    "learning_rate = 0.001\n",
    "optimizer = torch.optim.Adam(model.parameters(), lr=learning_rate)\n",
    "optimizer.zero_grad()\n",
    "\n",
    "# We'll track metrics for each epoch on these arrays\n",
    "epoch_nums = []\n",
    "training_loss = []\n",
    "validation_loss = []\n",
    "\n",
    "# Training over 50 epochs\n",
    "epochs = 50\n",
    "for epoch in range(1, epochs + 1):\n",
    "    print('Epoch: {}'.format(epoch))\n",
    "    \n",
    "    # Feed training data into the model to optimize the weights\n",
    "    train_loss = train(model, train_loader, optimizer)\n",
    "    \n",
    "    # Feed the test data into the model to check its performance\n",
    "    test_loss = test(model, test_loader)\n",
    "    \n",
    "    # Log the metrics for this epoch\n",
    "    epoch_nums.append(epoch)\n",
    "    training_loss.append(train_loss)\n",
    "    validation_loss.append(test_loss)\n",
    "        "
   ]
  },
  {
   "cell_type": "markdown",
   "metadata": {},
   "source": [
    "ps. with torch.no_grad():\n",
    "https://zhuanlan.zhihu.com/p/67184419\n",
    "当我们在做 evaluating 的时候（不需要计算导数），我们可以将推断（inference）的代码包裹在 with torch.no_grad(): 之中，以达到 暂时 不追踪网络参数中的导数的目的，总之是为了减少可能存在的计算和内存消耗"
   ]
  },
  {
   "cell_type": "markdown",
   "metadata": {},
   "source": [
    "ps. RuntimeError: bool value of Tensor with more than one value is ambiguous\n",
    "最常見的地方在於 Loss Function 的使用，通常是誤用了 Class 作為輸入\n",
    "https://clay-atlas.com/blog/2020/05/16/pytorch-cn-error-runtimeerror-ambiguous/\n",
    "nn.CrossEntropyLoss()是一個 Class，我們需要將其建立為物件才可以輸入『預測結果』與『正確答案』"
   ]
  },
  {
   "cell_type": "markdown",
   "metadata": {},
   "source": [
    "1. In each epoch, the full set of training data is passed forward through the network. For efficiencym the feature vectors are grouped into batches.\n",
    "2. The matrix of feature values is processed by a function performing a weighted sum using initialized weights and bias values. The result of this function is then processed by the activation function for the input layer to constrain the values passed to the nodes in the next layer.\n",
    "3. The weighted sum and activation functions are repeated in each layer. \n",
    "4. In the final layer of the network, the output vectors, containing a probability value for each possible class, is processed by a loss function to determine how far the values calculated by the network are from the actual values.\n",
    "5. At the end of each epoch, the validation data is passed through the network, and its loss and accuracy are also calculated. It's important to do this because it enables us to compare the performance of the model using data on which it was not trained, helping us determine if it will generalize well for new data or if it's overfitted to the training data.\n",
    "6. After all the data has been passed forward through the network, the output of the loss function for the training data (but not the validation data) is passed to the optimizer. The entire network from the input layer to the loss function is one big nested (composite) function. The optimizer applies some differential calculus to calculate partial derivatives for the function with respect to each weight and bias value used in the network. It's possible to do this efficiently for a nested function due to something called the chain rule, enabling you to determine the derivative of a composite function from the derivatives of its inner function and outer functions. The end result is that the partial derivatives tell us about the slope (or gradient) of the loss function. We can determine whether to increase or decrease the weight and bias values in order to decrease the loss.\n",
    "7. Having determined in which direction to adjust the weights and biases, the optimizer uses the learning rate to determine by how much to adjust them, and then works backwards through the network in a process called backpropagation to assign new values to the weights and biases in each layer.\n",
    "8. Now the next epoch repeats the whole training, validation, and backpropagation process starting with the revised weights and biases from the previous epoch - which hopefully will result in a lower level of loss.\n"
   ]
  },
  {
   "cell_type": "markdown",
   "metadata": {},
   "source": [
    "# Review training and validation loss"
   ]
  },
  {
   "cell_type": "markdown",
   "metadata": {},
   "source": [
    "After training is complete, by examining the loss metrics, we're really looking for 2 things:\n",
    "* The loss should reduce with each epoch, showing that the model is learning the right weights and biases to predict the correct labels.\n",
    "* The training loss and validation loss should follow a similar trend, showing that the model is not overfitting to the training data."
   ]
  },
  {
   "cell_type": "code",
   "execution_count": 12,
   "metadata": {},
   "outputs": [
    {
     "data": {
      "image/png": "[encoded data removed]",
      "text/plain": [
       "<Figure size 432x288 with 1 Axes>"
      ]
     },
     "metadata": {
      "needs_background": "light"
     },
     "output_type": "display_data"
    }
   ],
   "source": [
    "%matplotlib inline\n",
    "from matplotlib import pyplot as plt\n",
    "\n",
    "plt.plot(epoch_nums, training_loss)\n",
    "plt.plot(epoch_nums, validation_loss)\n",
    "plt.xlabel('epoch')\n",
    "plt.ylabel('loss')\n",
    "plt.legend(['training', 'validation'], loc='upper right')\n",
    "plt.show()"
   ]
  },
  {
   "cell_type": "markdown",
   "metadata": {},
   "source": [
    "# View the learned weights and biases"
   ]
  },
  {
   "cell_type": "markdown",
   "metadata": {},
   "source": [
    "The trained model consists of the final weights and biases that were detemined by the optimizer during training.\n",
    "* Layer 1: There are 4 input values going to 10 output nodes, so there should be 10x4 weights and 10 bias values.\n",
    "* Layer 2: 10x10 weights and 10 bias values\n",
    "* Layer 3: 3x10 weights and 3 bias values"
   ]
  },
  {
   "cell_type": "code",
   "execution_count": 13,
   "metadata": {},
   "outputs": [
    {
     "name": "stdout",
     "output_type": "stream",
     "text": [
      "fc1.weight \n",
      " [[-0.00374341  0.2682218  -0.41152257 -0.3679695 ]\n",
      " [-0.21311925 -0.2744664   0.13805772  0.6008754 ]\n",
      " [-0.04437202  0.13230628 -0.15110654 -0.09828269]\n",
      " [-0.47767425 -0.33114105 -0.20611155  0.01852179]\n",
      " [ 0.17988217  0.2820575  -0.3566924  -0.23511334]\n",
      " [ 0.3894448   0.35169297 -0.20544158  0.36354285]\n",
      " [-0.08059168  0.05290705  0.4527381  -0.46383518]\n",
      " [-0.35729307 -0.1673987  -0.2368747   0.3890607 ]\n",
      " [-0.32408983 -0.23016644 -0.34932023 -0.4682805 ]\n",
      " [-0.4298822   0.7961434   0.29358077  0.1772558 ]]\n",
      "fc1.bias \n",
      " [ 0.02629578 -0.26014262  0.08459234 -0.46684736 -0.3790015  -0.44093236\n",
      "  0.31546897  0.25169232 -0.22174752  0.23264474]\n",
      "fc2.weight \n",
      " [[ 0.20224687  0.3143725   0.12550515  0.04272011  0.21202639 -0.18619564\n",
      "   0.05892715 -0.24517313 -0.21917307 -0.16335806]\n",
      " [ 0.14308453  0.1578964  -0.18731831  0.09553465  0.19169767  0.1473398\n",
      "   0.01207405  0.03876313  0.19618031  0.9051269 ]\n",
      " [-0.24369258 -0.14273338  0.12428063  0.2620103   0.25947636  0.3239681\n",
      "   0.06293392 -0.24964523  0.02909058 -0.6609845 ]\n",
      " [-0.29470977  0.51205844  0.2404469  -0.31544605  0.05918899 -0.00962962\n",
      "  -0.05203882 -0.10508116  0.12160733 -0.467288  ]\n",
      " [ 0.11592636  0.15991893  0.22637847  0.11824107 -0.31298175 -0.20513597\n",
      "   0.15789726  0.0661869  -0.24668422 -0.1820901 ]\n",
      " [ 0.29749104  0.505109   -0.13788326 -0.07958971 -0.3194994  -0.08973212\n",
      "  -0.23813814 -0.20938635 -0.01742402 -0.30831385]\n",
      " [-0.12950484  0.18764248 -0.19243696  0.2869356   0.21671084 -0.26666948\n",
      "  -0.07870413  0.01426902  0.04613796  0.07500109]\n",
      " [ 0.12409672  0.01894209 -0.15429662  0.1496355  -0.30334112 -0.1874303\n",
      "  -0.07916126 -0.15403877 -0.11062703 -0.25918713]\n",
      " [-0.06726643  0.3315975  -0.20601156 -0.01622862  0.2094021  -0.12688553\n",
      "   0.00878868  0.0060374   0.06399861  0.22570473]\n",
      " [ 0.29954556  0.20082232  0.3002309  -0.02287012 -0.2840742  -0.14991638\n",
      "   0.21532115 -0.00204995 -0.15717986 -0.24232906]]\n",
      "fc2.bias \n",
      " [-0.2959424   0.1311088  -0.28526297  0.08383616  0.17096573 -0.4734625\n",
      "  0.19725719 -0.24745122 -0.10725815 -0.1282217 ]\n",
      "fc3.weight \n",
      " [[-0.06091028  0.3194577  -1.0807565  -1.0592638  -0.04948315 -0.38506642\n",
      "  -0.14365433  0.11912274  0.18120785 -0.02134135]\n",
      " [ 0.27809682 -0.47361544  0.09417713  0.8282718  -0.2853832   0.9107912\n",
      "  -0.03649095 -0.14116624  0.37879568 -0.25554216]\n",
      " [ 0.03393281 -0.19743218  1.0981612  -0.29242906  0.15194914 -0.76950717\n",
      "  -0.07604478 -0.06650442 -1.155514    0.17134616]]\n",
      "fc3.bias \n",
      " [ 0.53891987 -0.1150668  -0.14834884]\n"
     ]
    }
   ],
   "source": [
    "for param_tensor in model.state_dict():\n",
    "    print(param_tensor, '\\n', model.state_dict()[param_tensor].numpy())"
   ]
  },
  {
   "cell_type": "markdown",
   "metadata": {},
   "source": [
    "# Evaluate model performance"
   ]
  },
  {
   "cell_type": "markdown",
   "metadata": {},
   "source": [
    "It's typically useful to dig a little deeper and compare the predictions for each possible class. A common way to visualize the performance of a classification model is to create a confusion matrix showing a crosstab of correct and incorrect predictions for each class."
   ]
  },
  {
   "cell_type": "code",
   "execution_count": 14,
   "metadata": {},
   "outputs": [
    {
     "data": {
      "image/png": "[encoded data removed]",
      "text/plain": [
       "<Figure size 432x288 with 2 Axes>"
      ]
     },
     "metadata": {
      "needs_background": "light"
     },
     "output_type": "display_data"
    }
   ],
   "source": [
    "# Pytorch doesn't have a built-in confusion matrix metric, \n",
    "# so we'll use SciKit-Learn\n",
    "from sklearn.metrics import confusion_matrix\n",
    "import numpy as np\n",
    "\n",
    "# Set the model to evaluate mode\n",
    "model.eval()\n",
    "\n",
    "# Get predictions for the test data\n",
    "x = torch.Tensor(x_test).float()\n",
    "_, predicted = torch.max(model(x).data, 1)\n",
    "\n",
    "# Plot the confusion matrix\n",
    "cm = confusion_matrix(y_test, predicted.numpy())\n",
    "plt.imshow(cm, interpolation=\"nearest\", cmap=plt.cm.Blues)\n",
    "plt.colorbar()\n",
    "tick_marks = np.arange(len(classes))\n",
    "plt.xticks(tick_marks, classes, rotation=45)\n",
    "plt.yticks(tick_marks, classes)\n",
    "plt.xlabel(\"Actual Species\")\n",
    "plt.ylabel(\"Predicted Species\")\n",
    "plt.show()\n"
   ]
  },
  {
   "cell_type": "markdown",
   "metadata": {},
   "source": [
    "The confusion matrix shows a strong diagonal line indicating that there are more correct than incorrect predictions for each class."
   ]
  },
  {
   "cell_type": "markdown",
   "metadata": {},
   "source": [
    "# Save the trained model"
   ]
  },
  {
   "cell_type": "code",
   "execution_count": 17,
   "metadata": {},
   "outputs": [
    {
     "name": "stdout",
     "output_type": "stream",
     "text": [
      "model saved as penguin_classifier.pt\n"
     ]
    }
   ],
   "source": [
    "# Save the model weights\n",
    "model_file = 'penguin_classifier.pt'\n",
    "torch.save(model.state_dict(), model_file)\n",
    "del model\n",
    "print('model saved as', model_file)"
   ]
  },
  {
   "cell_type": "markdown",
   "metadata": {},
   "source": [
    "# Use the trained model"
   ]
  },
  {
   "cell_type": "code",
   "execution_count": 18,
   "metadata": {},
   "outputs": [
    {
     "name": "stdout",
     "output_type": "stream",
     "text": [
      "New sample: [[50.4, 15.3, 20, 50]]\n",
      "Prediction: Gentoo\n"
     ]
    }
   ],
   "source": [
    "# New penguin features\n",
    "x_new = [[50.4,15.3,20,50]]\n",
    "print('New sample: {}'.format(x_new))\n",
    "\n",
    "# Create a new model class and load weights\n",
    "model = PenguinNet()\n",
    "model.load_state_dict(torch.load(model_file))\n",
    "\n",
    "# Set model to evaluation mode\n",
    "model.eval()\n",
    "\n",
    "# Get a prediction for the new data sample\n",
    "x = torch.Tensor(x_new).float()\n",
    "_, predicted = torch.max(model(x).data, 1)\n",
    "\n",
    "print('Prediction:', classes[predicted.item()])"
   ]
  },
  {
   "cell_type": "markdown",
   "metadata": {},
   "source": [
    "https://pytorch.org/tutorials/"
   ]
  },
  {
   "cell_type": "code",
   "execution_count": null,
   "metadata": {},
   "outputs": [],
   "source": []
  }
 ],
 "metadata": {
  "kernelspec": {
   "display_name": "Python 3",
   "language": "python",
   "name": "python3"
  },
  "language_info": {
   "codemirror_mode": {
    "name": "ipython",
    "version": 3
   },
   "file_extension": ".py",
   "mimetype": "text/x-python",
   "name": "python",
   "nbconvert_exporter": "python",
   "pygments_lexer": "ipython3",
   "version": "3.8.5"
  }
 },
 "nbformat": 4,
 "nbformat_minor": 4
}
